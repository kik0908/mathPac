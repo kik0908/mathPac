{
 "cells": [
  {
   "cell_type": "code",
   "execution_count": 2,
   "id": "183f9cfd",
   "metadata": {},
   "outputs": [],
   "source": [
    "import numpy as np"
   ]
  },
  {
   "cell_type": "code",
   "execution_count": 32,
   "id": "9d306806",
   "metadata": {},
   "outputs": [
    {
     "name": "stdout",
     "output_type": "stream",
     "text": [
      "[0 1 2 3 4 5 6 7 8 9] [2 3 4 5]\n",
      "[ 0  1 30 31 32 33  6  7  8  9] [30 31 32 33]\n"
     ]
    }
   ],
   "source": [
    "a = np.arange(10)\n",
    "b = a[2:6]\n",
    "print(a, b)\n",
    "b[:] = np.arange(30, 34)\n",
    "print(a, b)"
   ]
  },
  {
   "cell_type": "code",
   "execution_count": 38,
   "id": "cc945bda",
   "metadata": {},
   "outputs": [
    {
     "name": "stdout",
     "output_type": "stream",
     "text": [
      "[[0 0 0 0 0]\n",
      " [1 1 1 1 1]\n",
      " [2 2 2 2 2]\n",
      " [3 3 3 3 3]\n",
      " [4 4 4 4 4]] [[0 1 2 3 4]\n",
      " [0 1 2 3 4]\n",
      " [0 1 2 3 4]\n",
      " [0 1 2 3 4]\n",
      " [0 1 2 3 4]]\n"
     ]
    }
   ],
   "source": [
    "x, y = np.mgrid[range(0, 5), 0:5]\n",
    "print(x, y)"
   ]
  },
  {
   "cell_type": "code",
   "execution_count": 48,
   "id": "5a8ac81a",
   "metadata": {},
   "outputs": [],
   "source": [
    "r = np.random.rand(5, 5)"
   ]
  },
  {
   "cell_type": "code",
   "execution_count": 60,
   "id": "ac1c001b",
   "metadata": {},
   "outputs": [
    {
     "name": "stdout",
     "output_type": "stream",
     "text": [
      "[[0 0 0 0 0]\n",
      " [0 1 0 0 0]\n",
      " [0 0 2 0 0]\n",
      " [0 0 0 3 0]\n",
      " [0 0 0 0 4]]\n",
      "[[0 0 0 0 0]\n",
      " [0 0 1 0 0]\n",
      " [0 0 0 2 0]\n",
      " [0 0 0 0 3]\n",
      " [0 0 0 0 0]]\n",
      "[[0.5155795  0.90119392 0.81240214 0.12585162 0.44731033]\n",
      " [0.74299482 0.90647049 0.10548208 0.3345664  0.45972784]\n",
      " [0.41599199 0.16464412 0.08721425 0.23023423 0.48298071]\n",
      " [0.16017459 0.82653423 0.53000838 0.06431578 0.24636748]\n",
      " [0.97027235 0.76195503 0.24794184 0.17916051 0.35018087]]\n"
     ]
    },
    {
     "data": {
      "text/plain": [
       "array([[0.        , 0.12585162, 0.        ],\n",
       "       [0.        , 0.        , 0.45972784],\n",
       "       [0.        , 0.        , 0.        ]])"
      ]
     },
     "execution_count": 60,
     "metadata": {},
     "output_type": "execute_result"
    }
   ],
   "source": [
    "print(np.diag(range(0, 5), 0))\n",
    "print(np.diag(range(0, 4), 1))\n",
    "\n",
    "print(r)\n",
    "np.diag(np.diag(r, 3), 1)"
   ]
  },
  {
   "cell_type": "code",
   "execution_count": 64,
   "id": "c577c8a5",
   "metadata": {},
   "outputs": [
    {
     "name": "stdout",
     "output_type": "stream",
     "text": [
      "[0. 0. 0. 0. 0. 0. 0. 0. 0. 0.]\n",
      "[[1. 1. 1. 1. 1.]\n",
      " [1. 1. 1. 1. 1.]\n",
      " [1. 1. 1. 1. 1.]\n",
      " [1. 1. 1. 1. 1.]\n",
      " [1. 1. 1. 1. 1.]]\n",
      "[[1. 0. 0. 0.]\n",
      " [0. 1. 0. 0.]\n",
      " [0. 0. 1. 0.]\n",
      " [0. 0. 0. 1.]]\n"
     ]
    }
   ],
   "source": [
    "print(np.zeros(10))\n",
    "\n",
    "print(np.ones((5,5)))\n",
    "\n",
    "print(np.eye(4))\n"
   ]
  },
  {
   "cell_type": "markdown",
   "id": "333daf57",
   "metadata": {},
   "source": [
    "### Считывание из файла\n"
   ]
  },
  {
   "cell_type": "code",
   "execution_count": 66,
   "id": "a4435b1b",
   "metadata": {},
   "outputs": [
    {
     "ename": "OSError",
     "evalue": "filename.dat not found.",
     "output_type": "error",
     "traceback": [
      "\u001b[1;31m---------------------------------------------------------------------------\u001b[0m",
      "\u001b[1;31mOSError\u001b[0m                                   Traceback (most recent call last)",
      "\u001b[1;32m<ipython-input-66-5cb1513e2888>\u001b[0m in \u001b[0;36m<module>\u001b[1;34m\u001b[0m\n\u001b[1;32m----> 1\u001b[1;33m \u001b[0mdata\u001b[0m \u001b[1;33m=\u001b[0m \u001b[0mnp\u001b[0m\u001b[1;33m.\u001b[0m\u001b[0mgenfromtxt\u001b[0m\u001b[1;33m(\u001b[0m\u001b[1;34m'filename.dat'\u001b[0m\u001b[1;33m)\u001b[0m\u001b[1;33m\u001b[0m\u001b[0m\n\u001b[0m",
      "\u001b[1;32mc:\\program files (x86)\\python\\python36-32\\lib\\site-packages\\numpy-1.15.0rc2-py3.6-win32.egg\\numpy\\lib\\npyio.py\u001b[0m in \u001b[0;36mgenfromtxt\u001b[1;34m(fname, dtype, comments, delimiter, skip_header, skip_footer, converters, missing_values, filling_values, usecols, names, excludelist, deletechars, replace_space, autostrip, case_sensitive, defaultfmt, unpack, usemask, loose, invalid_raise, max_rows, encoding)\u001b[0m\n\u001b[0;32m   1698\u001b[0m             \u001b[0mfname\u001b[0m \u001b[1;33m=\u001b[0m \u001b[0mstr\u001b[0m\u001b[1;33m(\u001b[0m\u001b[0mfname\u001b[0m\u001b[1;33m)\u001b[0m\u001b[1;33m\u001b[0m\u001b[0m\n\u001b[0;32m   1699\u001b[0m         \u001b[1;32mif\u001b[0m \u001b[0misinstance\u001b[0m\u001b[1;33m(\u001b[0m\u001b[0mfname\u001b[0m\u001b[1;33m,\u001b[0m \u001b[0mbasestring\u001b[0m\u001b[1;33m)\u001b[0m\u001b[1;33m:\u001b[0m\u001b[1;33m\u001b[0m\u001b[0m\n\u001b[1;32m-> 1700\u001b[1;33m             \u001b[0mfhd\u001b[0m \u001b[1;33m=\u001b[0m \u001b[0miter\u001b[0m\u001b[1;33m(\u001b[0m\u001b[0mnp\u001b[0m\u001b[1;33m.\u001b[0m\u001b[0mlib\u001b[0m\u001b[1;33m.\u001b[0m\u001b[0m_datasource\u001b[0m\u001b[1;33m.\u001b[0m\u001b[0mopen\u001b[0m\u001b[1;33m(\u001b[0m\u001b[0mfname\u001b[0m\u001b[1;33m,\u001b[0m \u001b[1;34m'rt'\u001b[0m\u001b[1;33m,\u001b[0m \u001b[0mencoding\u001b[0m\u001b[1;33m=\u001b[0m\u001b[0mencoding\u001b[0m\u001b[1;33m)\u001b[0m\u001b[1;33m)\u001b[0m\u001b[1;33m\u001b[0m\u001b[0m\n\u001b[0m\u001b[0;32m   1701\u001b[0m             \u001b[0mown_fhd\u001b[0m \u001b[1;33m=\u001b[0m \u001b[1;32mTrue\u001b[0m\u001b[1;33m\u001b[0m\u001b[0m\n\u001b[0;32m   1702\u001b[0m         \u001b[1;32melse\u001b[0m\u001b[1;33m:\u001b[0m\u001b[1;33m\u001b[0m\u001b[0m\n",
      "\u001b[1;32mc:\\program files (x86)\\python\\python36-32\\lib\\site-packages\\numpy-1.15.0rc2-py3.6-win32.egg\\numpy\\lib\\_datasource.py\u001b[0m in \u001b[0;36mopen\u001b[1;34m(path, mode, destpath, encoding, newline)\u001b[0m\n\u001b[0;32m    258\u001b[0m \u001b[1;33m\u001b[0m\u001b[0m\n\u001b[0;32m    259\u001b[0m     \u001b[0mds\u001b[0m \u001b[1;33m=\u001b[0m \u001b[0mDataSource\u001b[0m\u001b[1;33m(\u001b[0m\u001b[0mdestpath\u001b[0m\u001b[1;33m)\u001b[0m\u001b[1;33m\u001b[0m\u001b[0m\n\u001b[1;32m--> 260\u001b[1;33m     \u001b[1;32mreturn\u001b[0m \u001b[0mds\u001b[0m\u001b[1;33m.\u001b[0m\u001b[0mopen\u001b[0m\u001b[1;33m(\u001b[0m\u001b[0mpath\u001b[0m\u001b[1;33m,\u001b[0m \u001b[0mmode\u001b[0m\u001b[1;33m,\u001b[0m \u001b[0mencoding\u001b[0m\u001b[1;33m=\u001b[0m\u001b[0mencoding\u001b[0m\u001b[1;33m,\u001b[0m \u001b[0mnewline\u001b[0m\u001b[1;33m=\u001b[0m\u001b[0mnewline\u001b[0m\u001b[1;33m)\u001b[0m\u001b[1;33m\u001b[0m\u001b[0m\n\u001b[0m\u001b[0;32m    261\u001b[0m \u001b[1;33m\u001b[0m\u001b[0m\n\u001b[0;32m    262\u001b[0m \u001b[1;33m\u001b[0m\u001b[0m\n",
      "\u001b[1;32mc:\\program files (x86)\\python\\python36-32\\lib\\site-packages\\numpy-1.15.0rc2-py3.6-win32.egg\\numpy\\lib\\_datasource.py\u001b[0m in \u001b[0;36mopen\u001b[1;34m(self, path, mode, encoding, newline)\u001b[0m\n\u001b[0;32m    614\u001b[0m                                       encoding=encoding, newline=newline)\n\u001b[0;32m    615\u001b[0m         \u001b[1;32melse\u001b[0m\u001b[1;33m:\u001b[0m\u001b[1;33m\u001b[0m\u001b[0m\n\u001b[1;32m--> 616\u001b[1;33m             \u001b[1;32mraise\u001b[0m \u001b[0mIOError\u001b[0m\u001b[1;33m(\u001b[0m\u001b[1;34m\"%s not found.\"\u001b[0m \u001b[1;33m%\u001b[0m \u001b[0mpath\u001b[0m\u001b[1;33m)\u001b[0m\u001b[1;33m\u001b[0m\u001b[0m\n\u001b[0m\u001b[0;32m    617\u001b[0m \u001b[1;33m\u001b[0m\u001b[0m\n\u001b[0;32m    618\u001b[0m \u001b[1;33m\u001b[0m\u001b[0m\n",
      "\u001b[1;31mOSError\u001b[0m: filename.dat not found."
     ]
    }
   ],
   "source": [
    "data = np.genfromtxt('filename.dat')\n"
   ]
  },
  {
   "cell_type": "code",
   "execution_count": 86,
   "id": "6bac51fb",
   "metadata": {},
   "outputs": [
    {
     "name": "stdout",
     "output_type": "stream",
     "text": [
      "['Сердца Трех' 'Малыш и Карлсон' 'Мио, Мой Мио' 'Мартин Иден' 'Белый Клык']\n"
     ]
    }
   ],
   "source": [
    "a = np.array(['Мцыри', 'Преступление и наказание', 'Кортик', 'Бородино', 'Молодая гвардия', 'Евгений Онегин', 'Герой нашего времени', 'Идиот', 'Зойкина квартира', 'Демон', 'Собачье Сердце', 'Сборник романов Достоевского', 'Стихотворения Лермонтова',\n",
    "         'Белая гвардия', 'Мастер и Маргарита', 'Лучшие произведения М.Ю. Лермонтова', 'Горячий снег', 'Дикая собака Динго', 'Беглец', 'Стихотворения Пушкина', 'Василий Теркин', 'Выхожу один я на дорогу', 'Война и Мир', 'Анна Каренина', 'Кинжал',\n",
    "         'Севастопольские рассказы', 'Бал', 'Ангел', 'Романы Толстого', 'Князь Серебряный','Сердца Трех','По Ком Звонит Колокол', 'Марк Твен', 'Малыш и Карлсон', 'Великий Гетсби', 'Маугли',\n",
    "         'Мио, Мой Мио', 'На западном фронте без перемен', 'Портрет Дориана Грея', 'Мартин Иден', 'Собор Парижской Богоматери', 'Отверженные', 'Белый Клык', 'Человек, который смеется', 'Детективы Агаты Кристи',\n",
    "         'Фауст', 'Лучшие стихотворения Киплинга', 'Рубаи Омара Хайяма', 'Сонеты Уильяма Шекспира', 'Гомер: Иллиада', 'Гомер: Одиссея', 'Ворон', 'Уильям Блейк',\n",
    "         'Гораций', 'Басё', 'Сборник стихотворений Гёте', 'Шиллер. Избраннные произведения', 'Сайгё', 'Сборник Роберта Бернса', 'Омар Хайям'])\n",
    "\n",
    "size = a.shape[0]\n",
    "lBooks = a[size//2:size-size//4][::3]\n",
    "print(lBooks)"
   ]
  }
 ],
 "metadata": {
  "celltoolbar": "Редактировать метаданные",
  "kernelspec": {
   "display_name": "Python 3",
   "language": "python",
   "name": "python3"
  },
  "language_info": {
   "codemirror_mode": {
    "name": "ipython",
    "version": 3
   },
   "file_extension": ".py",
   "mimetype": "text/x-python",
   "name": "python",
   "nbconvert_exporter": "python",
   "pygments_lexer": "ipython3",
   "version": "3.6.5"
  }
 },
 "nbformat": 4,
 "nbformat_minor": 5
}
